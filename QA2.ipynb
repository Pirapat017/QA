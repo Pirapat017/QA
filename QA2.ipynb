{
 "cells": [
  {
   "cell_type": "code",
   "execution_count": 1,
   "id": "f40b606e",
   "metadata": {},
   "outputs": [],
   "source": [
    "import numpy as np\n",
    "from numpy import random\n",
    "\n",
    "checkpoint = [\"A\",\"B\",\"C\",\"D\",\"E\",\"F\",\"G\"]\n",
    "adjecency = np.asarray([\n",
    "    [0,2,5,8,0,6,4],\n",
    "    [2,0,0,3,4,5,8],\n",
    "    [5,0,0,4,3,7,6],\n",
    "    [8,3,4,0,2,5,7],\n",
    "    [0,4,3,2,0,6,5]\n",
    "])"
   ]
  },
  {
   "cell_type": "code",
   "execution_count": 2,
   "id": "c57afbb4",
   "metadata": {},
   "outputs": [],
   "source": [
    "class Bestdistance:\n",
    "  def __init__(self,m,_start,_end):\n",
    "    self.distance = m\n",
    "    self.start = next(x for x in range(len(checkpoint)) if _start==checkpoint[x])\n",
    "    self.end = next(x for x in range(len(checkpoint)) if _end==checkpoint[x])\n",
    "    self._set_ = []\n",
    "    self.point = [] \n",
    "    self.value = [] \n",
    "    self.check = [] \n",
    "\n",
    "  def distance(self,new_start,walk):\n",
    "    count=0\n",
    "    while count < len(adjecency[new_start]):\n",
    "      c = adjecency[new_start][count]\n",
    "      walk+=2\n",
    "      if c != 0:\n",
    "        self.value.append(walk)\n",
    "      count+=2\n",
    "    rd=self.value[random.randint(0, len(self.value))]\n",
    "    return rd\n",
    "\n",
    "  def cal(self):\n",
    "    rate=0\n",
    "    _sum=0\n",
    "    while rate<1000:\n",
    "      n=[]\n",
    "      pre_start=self.start\n",
    "      select=0\n",
    "      while self.end != pre_start:\n",
    "        self.value=[]\n",
    "        select=self.Distance(pre_start,-5)\n",
    "        _sum+=adjecency[pre_start][select]\n",
    "        n.append(checkpoint[select])\n",
    "        pre_start=select\n",
    "      self._set_.append(_sum)\n",
    "      self.point.append(n)\n",
    "      sum=0\n",
    "      pre_start=self.start\n",
    "      rate+=1\n",
    "\n",
    "  def checkcall(self):\n",
    "    for i in self._set_:\n",
    "      if i > self.distance:\n",
    "        self.check.append(i-self.distance)\n",
    "      else:\n",
    "        self.check.append(self.distance-i)\n",
    "        \n",
    "  def display(self):\n",
    "    print(checkpoint[self.start],\" -->\",end=\" \")\n",
    "    for i in range(len(self.check)):\n",
    "      if min(self.check)==self.check[i]:\n",
    "        display=self.point[i]\n",
    "        total=self._set_[i]\n",
    "    for j in range(len(display)):\n",
    "      if j < len(display)-1:\n",
    "        print(display[j], \" -->\",end=\" \")\n",
    "      else:\n",
    "        print(display[j],end=\" \")"
   ]
  },
  {
   "cell_type": "code",
   "execution_count": 3,
   "id": "f74f72aa",
   "metadata": {},
   "outputs": [
    {
     "name": "stdout",
     "output_type": "stream",
     "text": [
      "A,B,C,D,E,F,G\n",
      "ระยะทาง17\n",
      "เริ่มA\n",
      "จบD\n",
      "A  --> G  --> G  --> G  --> D "
     ]
    }
   ],
   "source": [
    "print('A,B,C,D,E,F,G')\n",
    "m = int(input('ระยะทาง'))\n",
    "_start = input('เริ่ม')\n",
    "_end = input('จบ')\n",
    "BD = Bestdistance(m,_start,_end)\n",
    "BD.cal()\n",
    "BD.checkcall()\n",
    "BD.display()"
   ]
  }
 ],
 "metadata": {
  "kernelspec": {
   "display_name": "Python 3 (ipykernel)",
   "language": "python",
   "name": "python3"
  },
  "language_info": {
   "codemirror_mode": {
    "name": "ipython",
    "version": 3
   },
   "file_extension": ".py",
   "mimetype": "text/x-python",
   "name": "python",
   "nbconvert_exporter": "python",
   "pygments_lexer": "ipython3",
   "version": "3.10.0"
  }
 },
 "nbformat": 4,
 "nbformat_minor": 5
}
